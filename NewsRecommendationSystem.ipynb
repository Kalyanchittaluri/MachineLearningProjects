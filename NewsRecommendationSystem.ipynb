{
  "nbformat": 4,
  "nbformat_minor": 0,
  "metadata": {
    "colab": {
      "provenance": [],
      "authorship_tag": "ABX9TyPUsjYpGGLtZUn6a99ctmoQ",
      "include_colab_link": true
    },
    "kernelspec": {
      "name": "python3",
      "display_name": "Python 3"
    },
    "language_info": {
      "name": "python"
    }
  },
  "cells": [
    {
      "cell_type": "markdown",
      "metadata": {
        "id": "view-in-github",
        "colab_type": "text"
      },
      "source": [
        "<a href=\"https://colab.research.google.com/github/Kalyanchittaluri/MachineLearningProjects/blob/main/NewsRecommendationSystem.ipynb\" target=\"_parent\"><img src=\"https://colab.research.google.com/assets/colab-badge.svg\" alt=\"Open In Colab\"/></a>"
      ]
    },
    {
      "cell_type": "markdown",
      "source": [
        "Step 1: Let's understand the Math a bit\n",
        "\n",
        "We calculate the score by dividing the frequency of the words by the length of the corpus, then multiplying by 100 and applying a logarithmic transformation.\n"
      ],
      "metadata": {
        "id": "hNYUDuz8ThVq"
      }
    },
    {
      "cell_type": "markdown",
      "source": [
        "Step 2: Preprocessing the Text (Removing Stop Words)\n"
      ],
      "metadata": {
        "id": "c5qy134ITyH9"
      }
    },
    {
      "cell_type": "code",
      "source": [
        "from sklearn.feature_extraction.text import CountVectorizer\n",
        "doc = [str(news2)]\n",
        "vectorizer = CountVectorizer(stop_words='english')\n",
        "X = vectorizer.fit_transform(doc)\n",
        "corpus = vectorizer.get_feature_names_out()\n",
        "# Display the feature words\n",
        "corpus"
      ],
      "metadata": {
        "id": "md4OxNYWT0pb",
        "colab": {
          "base_uri": "https://localhost:8080/"
        },
        "outputId": "7884096a-2f09-4d6e-8b5c-36493559f063"
      },
      "execution_count": null,
      "outputs": [
        {
          "output_type": "execute_result",
          "data": {
            "text/plain": [
              "array(['accuser', 'biden', 'campaign', 'candidate', 'circulated',\n",
              "       'democrats', 'fox', 'inaccurately', 'new', 'news', 'paper',\n",
              "       'points', 'prominent', 'reade', 'rebuked', 'reported', 'reporting',\n",
              "       'talking', 'tara', 'telling', 'times', 'wednesday', 'york'],\n",
              "      dtype=object)"
            ]
          },
          "metadata": {},
          "execution_count": 11
        }
      ]
    },
    {
      "cell_type": "markdown",
      "source": [
        "Step 3: Define Your Query\n",
        "\n",
        "Next, we define a query that the user may input. The goal is to find the most relevant news article for this query.\n"
      ],
      "metadata": {
        "id": "xBoKgUr3T5TK"
      }
    },
    {
      "cell_type": "code",
      "source": [
        "query = \"some news Newyork or NY on wednesday or some talk Biden campaign News that the reported talking points that have\"\n"
      ],
      "metadata": {
        "id": "uf6X7ywqT8U6"
      },
      "execution_count": null,
      "outputs": []
    },
    {
      "cell_type": "markdown",
      "source": [
        "Step 4: Frequency Count for the Words in the Query\n"
      ],
      "metadata": {
        "id": "iwBmRhaeUAuI"
      }
    },
    {
      "cell_type": "code",
      "source": [
        "from collections import Counter\n",
        "# Convert query to list of words and get frequency count\n",
        "query_words = query.lower().split()\n",
        "query_freq = Counter(query_words)\n",
        "\n",
        "query_freq"
      ],
      "metadata": {
        "id": "qbkhQv1qUCZR",
        "colab": {
          "base_uri": "https://localhost:8080/"
        },
        "outputId": "4f02da7e-8e2d-4af4-d32b-1b646aef7fb7"
      },
      "execution_count": null,
      "outputs": [
        {
          "output_type": "execute_result",
          "data": {
            "text/plain": [
              "Counter({'some': 2,\n",
              "         'news': 2,\n",
              "         'newyork': 1,\n",
              "         'or': 2,\n",
              "         'ny': 1,\n",
              "         'on': 1,\n",
              "         'wednesday': 1,\n",
              "         'talk': 1,\n",
              "         'biden': 1,\n",
              "         'campaign': 1,\n",
              "         'that': 2,\n",
              "         'the': 1,\n",
              "         'reported': 1,\n",
              "         'talking': 1,\n",
              "         'points': 1,\n",
              "         'have': 1})"
            ]
          },
          "metadata": {},
          "execution_count": 13
        }
      ]
    },
    {
      "cell_type": "markdown",
      "source": [
        "Step 5: Comparing the Query to the News\n",
        "\n",
        "For each word in the query, we get the corresponding frequency in the news article's corpus.\n"
      ],
      "metadata": {
        "id": "7pqRG8vcUGtr"
      }
    },
    {
      "cell_type": "code",
      "source": [
        "freq = []\n",
        "for key in query_freq:\n",
        "    try:\n",
        "        freq.append(corpus.count(key))\n",
        "    except Exception:\n",
        "        pass\n",
        "\n",
        "freq"
      ],
      "metadata": {
        "id": "FE3HIX0VUIUP",
        "colab": {
          "base_uri": "https://localhost:8080/"
        },
        "outputId": "810b4f27-4ef7-4a48-bc65-0da32c76f023"
      },
      "execution_count": null,
      "outputs": [
        {
          "output_type": "execute_result",
          "data": {
            "text/plain": [
              "[]"
            ]
          },
          "metadata": {},
          "execution_count": 14
        }
      ]
    },
    {
      "cell_type": "markdown",
      "source": [
        "Step 6: Calculating the Score\n",
        "\n",
        "We calculate the score by dividing the frequency of the words by the length of the corpus, then multiplying by 100 and applying a logarithmic transformation.\n"
      ],
      "metadata": {
        "id": "00AjYgAjUKUZ"
      }
    },
    {
      "cell_type": "code",
      "source": [
        "from math import log10\n",
        "# Calculate the score\n",
        "if sum(freq) == 0:  # If no matches found\n",
        "    score = 0\n",
        "else:\n",
        "    score = sum(freq) / len(corpus)\n",
        "    score = log10(score) * 100  # Apply log transformation and scaling\n",
        "print(\"Score:\", score)"
      ],
      "metadata": {
        "id": "P4ZAKoutUNuK",
        "colab": {
          "base_uri": "https://localhost:8080/"
        },
        "outputId": "a8054f79-2b8f-493d-a363-15f40c1b34ae"
      },
      "execution_count": null,
      "outputs": [
        {
          "output_type": "stream",
          "name": "stdout",
          "text": [
            "Score: 0\n"
          ]
        }
      ]
    },
    {
      "cell_type": "markdown",
      "source": [
        "Step 7: Evaluating Multiple News Articles\n",
        "\n",
        "Let's now compare multiple news articles and calculate their respective scores.\n"
      ],
      "metadata": {
        "id": "TNSZIjvcUSsC"
      }
    },
    {
      "cell_type": "code",
      "source": [
        "from math import log10\n",
        "from sklearn.feature_extraction.text import CountVectorizer\n",
        "from collections import Counter\n",
        "\n",
        "class TextCleaner:\n",
        "    def __init__(self, doc):\n",
        "        self.doc = [str(doc)]\n",
        "\n",
        "    def process(self):\n",
        "        \"\"\"\n",
        "        Remove the stop words and extract features.\n",
        "        :return: List of features (words)\n",
        "        \"\"\"\n",
        "        vectorizer = CountVectorizer()\n",
        "        X = vectorizer.fit_transform(self.doc)\n",
        "        corpus = vectorizer.get_feature_names_out()\n",
        "        return corpus\n",
        "\n",
        "class WordFrequency:\n",
        "    def __init__(self, data):\n",
        "        self.data = data\n",
        "\n",
        "    def process(self):\n",
        "        \"\"\"\n",
        "        Get the frequency count of each word.\n",
        "        :return: Frequency as a dictionary\n",
        "        \"\"\"\n",
        "        return Counter(self.data)\n",
        "\n",
        "news1 = \"\"\"\n",
        "Louisiana reported 27 new deaths statewide on Monday, but none in Orleans Parish, the first time the Big Easy reported no new deaths from the virus since March 22.\n",
        "\"\"\"\n",
        "news2 = \"\"\"\n",
        "The New York Times rebuked the Biden campaign on Wednesday, telling Fox News that the reported talking points that have been circulated to prominent Democrats \"inaccurately\" describe the paper's reporting on the candidate's accuser Tara Reade.\n",
        "\"\"\"\n",
        "\n",
        "query = \"Biden campaign reported on Wednesday\"\n",
        "\n",
        "# Create a list of news articles\n",
        "news_list = [news1, news2]\n",
        "\n",
        "# Calculate score for each news article\n",
        "scores = []\n",
        "for news in news_list:\n",
        "    corpus = TextCleaner(news).process()\n",
        "    corpus_freq = WordFrequency(corpus).process()\n",
        "    query_freq = Counter(query.split())\n",
        "    freq = [corpus_freq.get(key, 0) for key in query_freq]\n",
        "    if sum(freq) == 0:\n",
        "        score = float('inf')\n",
        "    else:\n",
        "        score = sum(freq) / len(corpus)\n",
        "        score = log10(score + 1e-9) * 100\n",
        "    scores.append(score)\n",
        "\n",
        "# Display scores\n",
        "print(\"Scores for each news article:\", scores)\n"
      ],
      "metadata": {
        "id": "UJFWtR-tUVAd",
        "colab": {
          "base_uri": "https://localhost:8080/"
        },
        "outputId": "2a17a581-acd4-41a4-a131-87efa4fdf018"
      },
      "execution_count": null,
      "outputs": [
        {
          "output_type": "stream",
          "name": "stdout",
          "text": [
            "Scores for each news article: [-107.9181240836091, -99.99999956570551]\n"
          ]
        }
      ]
    },
    {
      "cell_type": "code",
      "source": [
        "# Combine scores with news articles\n",
        "news_with_scores = list(zip(news_list, scores))\n",
        "\n",
        "# Sort by score (ascending order)\n",
        "news_with_scores.sort(key=lambda x: x[1])\n",
        "\n",
        "# Display sorted articles and scores\n",
        "for idx, (news, score) in enumerate(news_with_scores):\n",
        "    print(f\"Rank {idx + 1}:\")\n",
        "    print(f\"Score: {score}\")\n",
        "    print(f\"News: {news[:100]}...\")\n",
        "    print()\n"
      ],
      "metadata": {
        "colab": {
          "base_uri": "https://localhost:8080/"
        },
        "id": "jCItJyElZq__",
        "outputId": "a72e957a-3606-4f12-b6b2-812d4f734115"
      },
      "execution_count": null,
      "outputs": [
        {
          "output_type": "stream",
          "name": "stdout",
          "text": [
            "Rank 1:\n",
            "Score: -107.9181240836091\n",
            "News: \n",
            "Louisiana reported 27 new deaths statewide on Monday, but none in Orleans Parish, the first time th...\n",
            "\n",
            "Rank 2:\n",
            "Score: -99.99999956570551\n",
            "News: \n",
            "The New York Times rebuked the Biden campaign on Wednesday, telling Fox News that the reported talk...\n",
            "\n"
          ]
        }
      ]
    },
    {
      "cell_type": "code",
      "source": [
        "top_article, top_score = news_with_scores[0]\n",
        "print(\"Top Recommended Article:\")\n",
        "print(f\"Score: {top_score}\")\n",
        "print(f\"News: {top_article}\")\n"
      ],
      "metadata": {
        "colab": {
          "base_uri": "https://localhost:8080/"
        },
        "id": "onAKoHV3ZtNX",
        "outputId": "a589c02a-144b-4215-9efc-e00f449427f4"
      },
      "execution_count": null,
      "outputs": [
        {
          "output_type": "stream",
          "name": "stdout",
          "text": [
            "Top Recommended Article:\n",
            "Score: -107.9181240836091\n",
            "News: \n",
            "Louisiana reported 27 new deaths statewide on Monday, but none in Orleans Parish, the first time the Big Easy reported no new deaths from the virus since March 22.\n",
            "\n"
          ]
        }
      ]
    },
    {
      "cell_type": "code",
      "source": [
        "print(\"Top Recommendations:\")\n",
        "for idx, (news, score) in enumerate(news_with_scores[:2]):  # Top 2\n",
        "    print(f\"Rank {idx + 1}:\")\n",
        "    print(f\"Score: {score}\")\n",
        "    print(f\"News: {news[:100]}...\")\n",
        "    print()\n"
      ],
      "metadata": {
        "colab": {
          "base_uri": "https://localhost:8080/"
        },
        "id": "tRJkAAqHZzkB",
        "outputId": "38994adf-8b02-4855-d48f-ea13c2f19b69"
      },
      "execution_count": null,
      "outputs": [
        {
          "output_type": "stream",
          "name": "stdout",
          "text": [
            "Top Recommendations:\n",
            "Rank 1:\n",
            "Score: -107.9181240836091\n",
            "News: \n",
            "Louisiana reported 27 new deaths statewide on Monday, but none in Orleans Parish, the first time th...\n",
            "\n",
            "Rank 2:\n",
            "Score: -99.99999956570551\n",
            "News: \n",
            "The New York Times rebuked the Biden campaign on Wednesday, telling Fox News that the reported talk...\n",
            "\n"
          ]
        }
      ]
    }
  ]
}