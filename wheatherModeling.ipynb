{
  "nbformat": 4,
  "nbformat_minor": 0,
  "metadata": {
    "colab": {
      "provenance": [],
      "authorship_tag": "ABX9TyMcZ7tCgv7LukD2T6IXx/HC",
      "include_colab_link": true
    },
    "kernelspec": {
      "name": "python3",
      "display_name": "Python 3"
    },
    "language_info": {
      "name": "python"
    }
  },
  "cells": [
    {
      "cell_type": "markdown",
      "metadata": {
        "id": "view-in-github",
        "colab_type": "text"
      },
      "source": [
        "<a href=\"https://colab.research.google.com/github/Kalyanchittaluri/MachineLearningProjects/blob/main/wheatherModeling.ipynb\" target=\"_parent\"><img src=\"https://colab.research.google.com/assets/colab-badge.svg\" alt=\"Open In Colab\"/></a>"
      ]
    },
    {
      "cell_type": "code",
      "source": [
        "import os\n",
        "# Function to calculate temperature using a quadratic equation\n",
        "def calculate_temperature(a, b, c, time):\n",
        "    return a * (time ** 2) + b * time + c"
      ],
      "metadata": {
        "id": "VDwtkn1yLmL1"
      },
      "execution_count": null,
      "outputs": []
    },
    {
      "cell_type": "code",
      "source": [
        "# Function to parse input lines with labeled values\n",
        "def parse_input_line(line):\n",
        "    try:\n",
        "        # Split the line by spaces and extract values after labels\n",
        "        parts = line.strip().split()\n",
        "        a = float(parts[1])\n",
        "        b = float(parts[3])\n",
        "        c = float(parts[5])\n",
        "        time = float(parts[7])\n",
        "        return a, b, c, time\n",
        "    except (IndexError, ValueError) as e:\n",
        "        raise ValueError(\"Invalid input format. Ensure the line follows the format 'a: <value> b: <value> c: <value> time: <value>'\") from e\n"
      ],
      "metadata": {
        "id": "zbUNPmsVOu54"
      },
      "execution_count": null,
      "outputs": []
    },
    {
      "cell_type": "code",
      "source": [
        "# Processing a single set of inputs\n",
        "def process_single_input(file_path):\n",
        "    try:\n",
        "        with open(file_path, 'r') as file:\n",
        "            line = file.readline().strip()\n",
        "            a, b, c, time = parse_input_line(line)\n",
        "            temperature = calculate_temperature(a, b, c, time)\n",
        "            print(f\"Single Input -> Coefficients: a={a}, b={b}, c={c}, Time={time}, Temperature={temperature:.2f}\")\n",
        "    except Exception as e:\n",
        "        print(f\"Error processing single input: {e}\")\n"
      ],
      "metadata": {
        "id": "4CPcD4GcOySY"
      },
      "execution_count": null,
      "outputs": []
    },
    {
      "cell_type": "code",
      "source": [
        "# Processing multiple sets of inputs\n",
        "def process_multiple_inputs(file_path):\n",
        "    try:\n",
        "        with open(file_path, 'r') as file:\n",
        "            for idx, line in enumerate(file, start=1):\n",
        "                a, b, c, time = parse_input_line(line)\n",
        "                temperature = calculate_temperature(a, b, c, time)\n",
        "                print(f\"Set {idx} -> Coefficients: a={a}, b={b}, c={c}, Time={time}, Temperature={temperature:.2f}\")\n",
        "    except Exception as e:\n",
        "        print(f\"Error processing multiple inputs: {e}\")\n"
      ],
      "metadata": {
        "id": "oOEkAtFFO1ql"
      },
      "execution_count": null,
      "outputs": []
    },
    {
      "cell_type": "code",
      "source": [
        "# Main function\n",
        "def main():\n",
        "    # File paths\n",
        "    single_input_file = '/content/single_input.txt'\n",
        "    multiple_input_file = '/content/multiple_input.txt'\n",
        "\n",
        "    print(\"Processing single input\")\n",
        "    process_single_input(single_input_file)\n",
        "\n",
        "    print(\"\\nProcessing multiple inputs\")\n",
        "    process_multiple_inputs(multiple_input_file)\n",
        "\n",
        "if __name__ == \"__main__\":\n",
        "    main()"
      ],
      "metadata": {
        "colab": {
          "base_uri": "https://localhost:8080/"
        },
        "id": "mu7U3N0ZO4Qa",
        "outputId": "66dceaa0-bb1c-4004-ae76-a6899231bc57"
      },
      "execution_count": null,
      "outputs": [
        {
          "output_type": "stream",
          "name": "stdout",
          "text": [
            "Processing single input...\n",
            "Single Input -> Coefficients: a=2.0, b=3.0, c=1.0, Time=4.0, Temperature=45.00\n",
            "\n",
            "Processing multiple inputs...\n",
            "Set 1 -> Coefficients: a=1.0, b=2.0, c=1.0, Time=3.0, Temperature=16.00\n",
            "Set 2 -> Coefficients: a=2.0, b=3.0, c=2.0, Time=4.0, Temperature=46.00\n",
            "Set 3 -> Coefficients: a=0.5, b=1.0, c=0.5, Time=2.0, Temperature=4.50\n"
          ]
        }
      ]
    }
  ]
}